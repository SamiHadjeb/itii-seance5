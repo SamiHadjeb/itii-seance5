{
 "cells": [
  {
   "cell_type": "markdown",
   "metadata": {},
   "source": [
    "Ex1:\n",
    "    \n",
    "1. Ecrire une fonction qui prend en entrée une fonction f et des réels a et h et donne en sortie le taux de variation (ou d'accroissement) de la fonction f entre le point d'abscisse a+h et a.\n",
    "2. Tester avec f(x)=3x^3+1x^2-5"
   ]
  },
  {
   "cell_type": "code",
   "execution_count": 13,
   "metadata": {},
   "outputs": [
    {
     "name": "stdout",
     "output_type": "stream",
     "text": [
      "235.46029999999405\n"
     ]
    }
   ],
   "source": [
    "def f(x):\n",
    "    return (3*x*x*x) + (1*x*x) - 5 \n",
    "def txAccroi(f, a, h):\n",
    "    tx = (f(a+h)-f(a)) / h;\n",
    "    print (tx);\n",
    "    return tx;\n",
    "txAccroi(f, 5, 0.01);"
   ]
  },
  {
   "cell_type": "markdown",
   "metadata": {},
   "source": [
    "Ex2:\n",
    "1. Ecrire une fonction qui calcule la liste des coefficients directeurs pour une fonction f définit sur I=[a;b] avec un pas \"p\"\n",
    "2. Tester avec f(x)=(1+x)/(x-4) définit sur I=[0,1] avec un pas de 0.01"
   ]
  },
  {
   "cell_type": "code",
   "execution_count": 21,
   "metadata": {},
   "outputs": [
    {
     "name": "stdout",
     "output_type": "stream",
     "text": [
      "[-0.31257814 -0.31414711 -0.31572792 -0.3173207  -0.31892555 -0.32054261\n",
      " -0.32217201 -0.32381385 -0.32546828 -0.32713543 -0.32881541 -0.33050837\n",
      " -0.33221444 -0.33393375 -0.33566644 -0.33741265 -0.33917253 -0.34094621\n",
      " -0.34273384 -0.34453556 -0.34635153 -0.3481819  -0.35002681 -0.35188643\n",
      " -0.3537609  -0.3556504  -0.35755507 -0.35947508 -0.3614106  -0.36336179\n",
      " -0.36532883 -0.36731189 -0.36931113 -0.37132674 -0.3733589  -0.37540779\n",
      " -0.37747358 -0.37955648 -0.38165666 -0.38377433 -0.38590967 -0.38806288\n",
      " -0.39023416 -0.39242371 -0.39463175 -0.39685847 -0.39910409 -0.40136883\n",
      " -0.4036529  -0.40595652 -0.40827992 -0.41062332 -0.41298695 -0.41537106\n",
      " -0.41777586 -0.42020161 -0.42264855 -0.42511693 -0.42760699 -0.430119\n",
      " -0.4326532  -0.43520987 -0.43778927 -0.44039167 -0.44301734 -0.44566656\n",
      " -0.44833962 -0.4510368  -0.45375839 -0.45650469 -0.459276   -0.46207262\n",
      " -0.46489486 -0.46774304 -0.47061747 -0.47351848 -0.4764464  -0.47940155\n",
      " -0.48238429 -0.48539495 -0.48843389 -0.49150145 -0.494598   -0.49772391\n",
      " -0.50087954 -0.50406529 -0.50728152 -0.51052863 -0.51380702 -0.51711709\n",
      " -0.52045925 -0.52383392 -0.52724151 -0.53068247 -0.53415722 -0.53766621\n",
      " -0.54120989 -0.54478871 -0.54840316 -0.55205369]\n",
      "[-0.31257814 -0.31414711 -0.31572792 -0.3173207  -0.31892555 -0.32054261\n",
      " -0.32217201 -0.32381385 -0.32546828 -0.32713543 -0.32881541 -0.33050837\n",
      " -0.33221444 -0.33393375 -0.33566644 -0.33741265 -0.33917253 -0.34094621\n",
      " -0.34273384 -0.34453556 -0.34635153 -0.3481819  -0.35002681 -0.35188643\n",
      " -0.3537609  -0.3556504  -0.35755507 -0.35947508 -0.3614106  -0.36336179\n",
      " -0.36532883 -0.36731189 -0.36931113 -0.37132674 -0.3733589  -0.37540779\n",
      " -0.37747358 -0.37955648 -0.38165666 -0.38377433 -0.38590967 -0.38806288\n",
      " -0.39023416 -0.39242371 -0.39463175 -0.39685847 -0.39910409 -0.40136883\n",
      " -0.4036529  -0.40595652 -0.40827992 -0.41062332 -0.41298695 -0.41537106\n",
      " -0.41777586 -0.42020161 -0.42264855 -0.42511693 -0.42760699 -0.430119\n",
      " -0.4326532  -0.43520987 -0.43778927 -0.44039167 -0.44301734 -0.44566656\n",
      " -0.44833962 -0.4510368  -0.45375839 -0.45650469 -0.459276   -0.46207262\n",
      " -0.46489486 -0.46774304 -0.47061747 -0.47351848 -0.4764464  -0.47940155\n",
      " -0.48238429 -0.48539495 -0.48843389 -0.49150145 -0.494598   -0.49772391\n",
      " -0.50087954 -0.50406529 -0.50728152 -0.51052863 -0.51380702 -0.51711709\n",
      " -0.52045925 -0.52383392 -0.52724151 -0.53068247 -0.53415722 -0.53766621\n",
      " -0.54120989 -0.54478871 -0.54840316 -0.55205369]\n"
     ]
    }
   ],
   "source": [
    "import numpy;\n",
    "def f2(x):\n",
    "    return (1+x) / (x-4)\n",
    "def coefDir(f, a, b, p, h):\n",
    "    coef = txAccroi(f, numpy.arange(a, b, p), h);\n",
    "    print (coef);\n",
    "coefDir((f2), 0, 1, 0.01, 0.001);\n",
    "    "
   ]
  },
  {
   "cell_type": "markdown",
   "metadata": {},
   "source": [
    "Ex3:\n",
    "on considère une suite U définie par Un+1=Un+n+1 et de premier terme U0. Ecrire une fonction qui prend en entrée les valeurs de n et U0 et affiche la valeur de Un.\n",
    "1. De facon iterative\n",
    "2. Par recurence"
   ]
  },
  {
   "cell_type": "code",
   "execution_count": 15,
   "metadata": {},
   "outputs": [
    {
     "name": "stdout",
     "output_type": "stream",
     "text": [
      "1\n",
      "3\n",
      "6\n",
      "10\n",
      "15\n"
     ]
    }
   ],
   "source": [
    "def u(n):\n",
    "    if (n == 0):\n",
    "        return 1\n",
    "    else: \n",
    "        return u(n-1)+ n + 1;\n",
    "def afficheSuite(n, u0):\n",
    "    for i in range (0, 5):\n",
    "        print (u(i));\n",
    "        \n",
    "afficheSuite(0, 0);\n",
    "        \n",
    "    \n",
    "    "
   ]
  },
  {
   "cell_type": "markdown",
   "metadata": {},
   "source": [
    "Ex4:\n",
    "On pose Tn=n^2−(n−1)^2 ainsi que Sn=T1+T2+T3+...+Tn.\n",
    "1. Etant donné n, afficher la valeur de Sn."
   ]
  },
  {
   "cell_type": "code",
   "execution_count": 20,
   "metadata": {},
   "outputs": [
    {
     "name": "stdout",
     "output_type": "stream",
     "text": [
      "81\n"
     ]
    }
   ],
   "source": [
    "def T(n):\n",
    "    return (n*n) - ((n-1)*(n-1))\n",
    "def afficheSn(n):\n",
    "    Sn = 0\n",
    "    for i in range (1, n):\n",
    "        Sn = Sn + T(i);\n",
    "    print(Sn);\n",
    "        \n",
    "afficheSn(10);"
   ]
  },
  {
   "cell_type": "markdown",
   "metadata": {},
   "source": [
    "Ex5:\n",
    "Soit la suite définie par Un+1=0.5.Un et de premier terme U0. Plus la valeur de n augmente, plus les valeurs de Un se rapprochent de 0.\n",
    "\n",
    "Ecrire une fonction qui permet de déterminer pour un réel positif e donné, quel est le plus petit entier n tel que la valeur de Un soit inférieure à e.\n"
   ]
  },
  {
   "cell_type": "code",
   "execution_count": 32,
   "metadata": {},
   "outputs": [
    {
     "name": "stdout",
     "output_type": "stream",
     "text": [
      "3\n"
     ]
    }
   ],
   "source": [
    "def u2(n):\n",
    "    if (n == 0):\n",
    "        return 10;\n",
    "    else: \n",
    "        return u2(n-1)*0.5;\n",
    "def trouvePlusPetit(e):\n",
    "    i = 0;\n",
    "    while (u2(i)>e):\n",
    "        i = i + 1;\n",
    "    print (i);\n",
    "    \n",
    "trouvePlusPetit(2);"
   ]
  },
  {
   "cell_type": "markdown",
   "metadata": {},
   "source": [
    "Ex6: Constante K de Catalan : https://fr.wikipedia.org/wiki/Constante_de_Catalan\n",
    "Ecrire une fonction qui permet de retourner une valeur approchée de la constante K et en s’arrêtant dès que la valeur absolue de la différence entre deux somme successives devienne inférieure ou égale à une erreur epsilon donnée en paramètre.\n",
    "\n"
   ]
  },
  {
   "cell_type": "code",
   "execution_count": 35,
   "metadata": {},
   "outputs": [
    {
     "name": "stdout",
     "output_type": "stream",
     "text": [
      "1\n"
     ]
    }
   ],
   "source": [
    "import math;\n",
    "def k(n):\n",
    "    return math.pow(-1, n) / ((2*n + 1)*(2*n + 1));\n",
    "def calculK(e):\n",
    "    i = 1;\n",
    "    while ((k(i)- k(i-1)) > e):\n",
    "        i = i+1;\n",
    "    print(i);\n",
    "    \n",
    "calculK(0.001);\n",
    "        "
   ]
  },
  {
   "cell_type": "markdown",
   "metadata": {},
   "source": [
    "Ex 7:\n",
    "Ecrivez une fonction permettant de calculer la limite à epsilon près de la suite définie par la relation de récurrence :\n",
    "\n",
    "U0 =2\n",
    "Un+1= Un + 2/Un  , n>0.\n",
    "\n",
    "On arrête d’itérer quand l’intervalle entre 2 termes consécutifs devient strictement inférieur à epsilon."
   ]
  },
  {
   "cell_type": "code",
   "execution_count": null,
   "metadata": {},
   "outputs": [],
   "source": []
  }
 ],
 "metadata": {
  "kernelspec": {
   "display_name": "Python 3",
   "language": "python",
   "name": "python3"
  },
  "language_info": {
   "codemirror_mode": {
    "name": "ipython",
    "version": 3
   },
   "file_extension": ".py",
   "mimetype": "text/x-python",
   "name": "python",
   "nbconvert_exporter": "python",
   "pygments_lexer": "ipython3",
   "version": "3.7.8"
  }
 },
 "nbformat": 4,
 "nbformat_minor": 4
}
